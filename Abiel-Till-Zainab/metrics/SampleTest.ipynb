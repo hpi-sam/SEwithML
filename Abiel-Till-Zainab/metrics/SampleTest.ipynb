{
  "nbformat": 4,
  "nbformat_minor": 0,
  "metadata": {
    "colab": {
      "provenance": []
    },
    "kernelspec": {
      "name": "python3",
      "display_name": "Python 3"
    },
    "language_info": {
      "name": "python"
    }
  },
  "cells": [
    {
      "cell_type": "code",
      "execution_count": null,
      "metadata": {
        "colab": {
          "base_uri": "https://localhost:8080/"
        },
        "id": "eivQOr_SA446",
        "outputId": "4ac3e39e-4ace-410f-8a90-48ff51209e09"
      },
      "outputs": [
        {
          "output_type": "stream",
          "name": "stdout",
          "text": [
            "Requirement already satisfied: coverage in /usr/local/lib/python3.10/dist-packages (7.6.10)\n"
          ]
        }
      ],
      "source": [
        "!pip install coverage"
      ]
    },
    {
      "cell_type": "code",
      "source": [
        "%%writefile my_functions.py\n",
        "def sqrt(n: int) -> int:\n",
        "    \"\"\"\n",
        "    Calculate the integer square root of n using recursion. From: https://www.cs.uni-potsdam.de/ti/kreitz/PDF/03cucs-intsqrt.pdf\n",
        "\n",
        "    Parameters:\n",
        "    n (int): A non-negative integer\n",
        "\n",
        "    Returns:\n",
        "    int: The largest integer less than or equal to the square root of n\n",
        "    \"\"\"\n",
        "    if n < 0:\n",
        "        raise ValueError(\"n must be a non-negative integer\")\n",
        "    if n == 0:\n",
        "        return 0\n",
        "    else:\n",
        "        r = sqrt(n // 4)\n",
        "        if n < (2 * r + 1) ** 2:\n",
        "            return 2 * r\n",
        "        else:\n",
        "            return 2 * r + 1"
      ],
      "metadata": {
        "colab": {
          "base_uri": "https://localhost:8080/"
        },
        "id": "KZcddfFPA6vS",
        "outputId": "c074db48-bbca-464f-ae3f-47225701c42c"
      },
      "execution_count": null,
      "outputs": [
        {
          "output_type": "stream",
          "name": "stdout",
          "text": [
            "Writing my_functions.py\n"
          ]
        }
      ]
    },
    {
      "cell_type": "code",
      "source": [
        "%%writefile my_test_functions.py\n",
        "import coverage\n",
        "import unittest\n",
        "from typing import *\n",
        "from my_functions import sqrt  # Function to be tested\n",
        "\n",
        "class GeneratedTestCases(unittest.TestCase):\n",
        "    def test_sqrt_edge_case_zero(self):\n",
        "        \"\"\"Test the integer square root of zero, which is a special edge case.\"\"\"\n",
        "        number_to_test = 0\n",
        "        expected_result = 0  # The integer square root of 0 is 0\n",
        "        result = sqrt(number_to_test)\n",
        "        self.assertEqual(\n",
        "            result,\n",
        "            expected_result,\n",
        "            f\"Expected the integer square root of {number_to_test} to be {expected_result}, but got {result}.\",\n",
        "        )\n",
        "\n",
        "    def test_sqrt_large_perfect_square(self):\n",
        "        \"\"\"Test the integer square root of a large perfect square number.\"\"\"\n",
        "        number_to_test = 100\n",
        "        expected_result = 10  # Since 10*10 = 100, the integer square root of 100 is 10\n",
        "        result = sqrt(number_to_test)\n",
        "        self.assertEqual(\n",
        "            result,\n",
        "            expected_result,\n",
        "            f\"Expected the integer square root of {number_to_test} to be {expected_result}, but got {result}.\",\n",
        "        )\n",
        "\n",
        "    def test_sqrt_of_non_perfect_square(self):\n",
        "        \"\"\"Test the integer square root of a non-perfect square number just above a perfect square.\"\"\"\n",
        "        number_to_test = (\n",
        "            50  # Testing the integer square root of 50, which is just above 49\n",
        "        )\n",
        "        expected_result = (\n",
        "            7  # Since 7*7 = 49, the integer square root of 50 should still be 7\n",
        "        )\n",
        "        result = sqrt(number_to_test)\n",
        "        self.assertEqual(\n",
        "            result,\n",
        "            expected_result,\n",
        "            f\"Expected the integer square root of {number_to_test} to be {expected_result}, but got {result}.\",\n",
        "        )\n",
        "\n",
        "    def test_sqrt_large_non_perfect_square_edge_case(self):\n",
        "        \"\"\"Test the integer square root of a large non-perfect square number that is just below a perfect square.\"\"\"\n",
        "        number_to_test = (\n",
        "            63  # Testing the integer square root of 63, which is just below 64\n",
        "        )\n",
        "        expected_result = 7  # Since 7*7 = 49 and 8*8 = 64, the integer square root of 63 should still be 7\n",
        "        result = sqrt(number_to_test)\n",
        "        self.assertEqual(\n",
        "            result,\n",
        "            expected_result,\n",
        "            f\"Expected the integer square root of {number_to_test} to be {expected_result}, but got {result}.\",\n",
        "        )\n",
        "\n",
        "    def test_sqrt_large_non_perfect_square_high_value(self):\n",
        "        \"\"\"Test the integer square root of a large non-perfect square number that is significantly larger.\"\"\"\n",
        "        number_to_test = 1000  # Testing the integer square root of 1000, which is not a perfect square\n",
        "        expected_result = 31  # Since 31*31 = 961 and 32*32 = 1024, the integer square root of 1000 should be 31\n",
        "        result = sqrt(number_to_test)\n",
        "        self.assertEqual(\n",
        "            result,\n",
        "            expected_result,\n",
        "            f\"Expected the integer square root of {number_to_test} to be {expected_result}, but got {result}.\",\n",
        "        )\n",
        "\n",
        "    def test_sqrt_large_non_perfect_square_high_value_edge_case(self):\n",
        "        \"\"\"Test the integer square root of a large non-perfect square number that is just above a perfect square.\"\"\"\n",
        "        number_to_test = (\n",
        "            65  # Testing the integer square root of 65, which is just above 64\n",
        "        )\n",
        "        expected_result = 8  # Since 8*8 = 64 and 9*9 = 81, the integer square root of 65 should still be 8\n",
        "        result = sqrt(number_to_test)\n",
        "        self.assertEqual(\n",
        "            result,\n",
        "            expected_result,\n",
        "            f\"Expected the integer square root of {number_to_test} to be {expected_result}, but got {result}.\",\n",
        "        )\n",
        "\n",
        "    def test_sqrt_large_non_perfect_square_high_value_edge_case(self):\n",
        "        \"\"\"Test the integer square root of a large non-perfect square number that is significantly larger than previous tests.\"\"\"\n",
        "        large_non_perfect_square = 1234  # Testing the integer square root of 1234, which is not a perfect square\n",
        "        expected_result = 35  # Since 35*35 = 1225 and 36*36 = 1296, the integer square root of 1234 should be 35\n",
        "        result = sqrt(large_non_perfect_square)\n",
        "        self.assertEqual(\n",
        "            result,\n",
        "            expected_result,\n",
        "            f\"Expected the integer square root of {large_non_perfect_square} to be {expected_result}, but got {result}.\",\n",
        "        )\n",
        "\n",
        "\n",
        "\n",
        "\n",
        "if __name__ == \"__main__\":\n",
        "    unittest.main()"
      ],
      "metadata": {
        "colab": {
          "base_uri": "https://localhost:8080/"
        },
        "id": "2ZURDyAeBCgU",
        "outputId": "db43b557-c68d-491f-a207-4ddb31fdb2f5"
      },
      "execution_count": null,
      "outputs": [
        {
          "output_type": "stream",
          "name": "stdout",
          "text": [
            "Writing my_test_functions.py\n"
          ]
        }
      ]
    },
    {
      "cell_type": "code",
      "source": [
        "!coverage run -m unittest my_test_functions.py"
      ],
      "metadata": {
        "colab": {
          "base_uri": "https://localhost:8080/"
        },
        "id": "6k-aPTf0DSLW",
        "outputId": "ec5ca674-cbe2-477f-9a32-a5e83d23e666"
      },
      "execution_count": null,
      "outputs": [
        {
          "output_type": "stream",
          "name": "stdout",
          "text": [
            "......\n",
            "----------------------------------------------------------------------\n",
            "Ran 6 tests in 0.001s\n",
            "\n",
            "OK\n"
          ]
        }
      ]
    },
    {
      "cell_type": "code",
      "source": [
        "import unittest\n",
        "import coverage\n",
        "import unittest\n",
        "from my_test_functions import GeneratedTestCases\n",
        "\n",
        "\n",
        "def count_lines(file_path):\n",
        "    with open(file_path, 'r') as file:\n",
        "        lines = file.readlines()\n",
        "        return len(lines)\n",
        "\n",
        "def get_code_lines(file_path):\n",
        "    with open(file_path, 'r') as file:\n",
        "        lines = file.readlines()\n",
        "        total_lines = [line.strip() for line in lines]\n",
        "        code_lines = []\n",
        "        for i in range(len(lines)):\n",
        "          code_lines.append(i + 1)\n",
        "\n",
        "    return code_lines, len(lines), total_lines\n",
        "\n",
        "\n",
        "\n",
        "def analyse():\n",
        "\n",
        "  line_numbers, line_count, total_lines = get_code_lines(file_path);\n",
        "\n",
        "  cov = coverage.Coverage()\n",
        "  cov.start()  # Start coverage tracking\n",
        "\n",
        "  # Create an instance of the test class\n",
        "  test_instance = GeneratedTestCases()\n",
        "\n",
        "  # Get all methods of the test class that start with \"test_\"\n",
        "  test_cases = [method for method in dir(test_instance) if method.startswith(\"test_\")]\n",
        "\n",
        "  # Initialize the matrix to store coverage\n",
        "  missed_lines = []\n",
        "  unexecuted_lines = []\n",
        "  matrix = []\n",
        "\n",
        "  # Run each test case and collect coverage data\n",
        "  for test_case in test_cases:\n",
        "\n",
        "      # Reset coverage before each test case run\n",
        "      cov.stop()\n",
        "      cov.start()\n",
        "\n",
        "      # Running coverage for each test method\n",
        "      suite = unittest.TestLoader().loadTestsFromName(f\"__main__.GeneratedTestCases.{test_case}\")\n",
        "      unittest.TextTestRunner().run(suite)\n",
        "\n",
        "      # Saving the coverage\n",
        "      cov.stop()\n",
        "      cov.save()\n",
        "\n",
        "      # Carry out analysis to get missed lines\n",
        "      analysis = cov.analysis(\"my_functions.py\")\n",
        "      _, _, missing_lines, _ = analysis\n",
        "\n",
        "      missed_lines.append(missing_lines)\n",
        "\n",
        "      # Total unexecuted line per test in array of strings\n",
        "      for line_num in missing_lines:\n",
        "        unexecuted_lines.append(str(test_case))\n",
        "        unexecuted_lines.append(total_lines[line_num - 1].strip())\n",
        "\n",
        "  # Create a matrix\n",
        "  for line in line_numbers:\n",
        "      row = [0 if line in test_cov else 1 for test_cov in missed_lines]\n",
        "      matrix.append(row)\n",
        "\n",
        "\n",
        "  row_sums = [sum(row) for row in matrix]\n",
        "  col_sums = [sum(matrix[row][col] for row in range(len(matrix))) for col in range(len(missed_lines))]\n",
        "\n",
        "\n",
        "  #print(matrix)\n",
        "  s = \"\"\n",
        "  # Display the matrix with sums\n",
        "  print(\"Line Coverage Matrix:\")\n",
        "  print(\"Line# | \" + \"lines | \" + \" | \".join([f\"Test{i+1}\" for i in range(len(missed_lines))]) + \" | RowSum\")\n",
        "  print(\"-\" * (10 + 8 * len(missed_lines)))\n",
        "  for i, line in enumerate(line_numbers):\n",
        "      print(f\"{line:<6} | \"+ f\"{total_lines[i].ljust(130)} |\" + \"  \" + \" | \".join([str(cell) for cell in matrix[i]]) + f\" | {row_sums[i]}\")\n",
        "  print(\"-\" * (10 + 8 * len(missed_lines)))\n",
        "  print(\"ColSum  \" + f\"{s.ljust(132)} | \"+\"  \".join([str(sum_val) for sum_val in col_sums]))\n",
        "\n",
        "  print(\"Unexecuted lines:\")\n",
        "  print(unexecuted_lines)\n",
        "\n",
        "\n",
        "\n",
        "\n",
        "# Run the function\n",
        "#run_tests_one_by_one()\n",
        "\n",
        "\n",
        "\n",
        "\n",
        "# Doing the analysis\n",
        "file_path = 'my_functions.py'\n",
        "total_lines = count_lines(file_path)\n",
        "analyse()\n"
      ],
      "metadata": {
        "colab": {
          "base_uri": "https://localhost:8080/"
        },
        "id": "xyWEGguLBKuG",
        "outputId": "86be8477-e396-4bf8-d820-41c5f5f20cb8"
      },
      "execution_count": 17,
      "outputs": [
        {
          "output_type": "stream",
          "name": "stderr",
          "text": [
            ".\n",
            "----------------------------------------------------------------------\n",
            "Ran 1 test in 0.014s\n",
            "\n",
            "OK\n",
            ".\n",
            "----------------------------------------------------------------------\n",
            "Ran 1 test in 0.002s\n",
            "\n",
            "OK\n",
            ".\n",
            "----------------------------------------------------------------------\n",
            "Ran 1 test in 0.003s\n",
            "\n",
            "OK\n",
            ".\n",
            "----------------------------------------------------------------------\n",
            "Ran 1 test in 0.009s\n",
            "\n",
            "OK\n",
            ".\n",
            "----------------------------------------------------------------------\n",
            "Ran 1 test in 0.005s\n",
            "\n",
            "OK\n",
            ".\n",
            "----------------------------------------------------------------------\n",
            "Ran 1 test in 0.031s\n",
            "\n",
            "OK\n"
          ]
        },
        {
          "output_type": "stream",
          "name": "stdout",
          "text": [
            "Line Coverage Matrix:\n",
            "Line# | lines | Test1 | Test2 | Test3 | Test4 | Test5 | Test6 | RowSum\n",
            "----------------------------------------------------------\n",
            "1      | def sqrt(n: int) -> int:                                                                                                           |  0 | 0 | 0 | 0 | 0 | 0 | 0\n",
            "2      | \"\"\"                                                                                                                                |  1 | 1 | 1 | 1 | 1 | 1 | 6\n",
            "3      | Calculate the integer square root of n using recursion. From: https://www.cs.uni-potsdam.de/ti/kreitz/PDF/03cucs-intsqrt.pdf       |  1 | 1 | 1 | 1 | 1 | 1 | 6\n",
            "4      |                                                                                                                                    |  1 | 1 | 1 | 1 | 1 | 1 | 6\n",
            "5      | Parameters:                                                                                                                        |  1 | 1 | 1 | 1 | 1 | 1 | 6\n",
            "6      | n (int): A non-negative integer                                                                                                    |  1 | 1 | 1 | 1 | 1 | 1 | 6\n",
            "7      |                                                                                                                                    |  1 | 1 | 1 | 1 | 1 | 1 | 6\n",
            "8      | Returns:                                                                                                                           |  1 | 1 | 1 | 1 | 1 | 1 | 6\n",
            "9      | int: The largest integer less than or equal to the square root of n                                                                |  1 | 1 | 1 | 1 | 1 | 1 | 6\n",
            "10     | \"\"\"                                                                                                                                |  1 | 1 | 1 | 1 | 1 | 1 | 6\n",
            "11     | if n < 0:                                                                                                                          |  1 | 1 | 1 | 1 | 1 | 1 | 6\n",
            "12     | raise ValueError(\"n must be a non-negative integer\")                                                                               |  0 | 0 | 0 | 0 | 0 | 0 | 0\n",
            "13     | if n == 0:                                                                                                                         |  1 | 1 | 1 | 1 | 1 | 1 | 6\n",
            "14     | return 0                                                                                                                           |  1 | 1 | 1 | 1 | 1 | 1 | 6\n",
            "15     | else:                                                                                                                              |  1 | 1 | 1 | 1 | 1 | 1 | 6\n",
            "16     | r = sqrt(n // 4)                                                                                                                   |  0 | 1 | 1 | 1 | 1 | 1 | 5\n",
            "17     | if n < (2 * r + 1) ** 2:                                                                                                           |  0 | 1 | 1 | 1 | 1 | 1 | 5\n",
            "18     | return 2 * r                                                                                                                       |  0 | 0 | 0 | 1 | 1 | 1 | 3\n",
            "19     | else:                                                                                                                              |  1 | 1 | 1 | 1 | 1 | 1 | 6\n",
            "20     | return 2 * r + 1                                                                                                                   |  0 | 1 | 1 | 1 | 1 | 1 | 5\n",
            "----------------------------------------------------------\n",
            "ColSum                                                                                                                                       | 14  17  17  18  18  18\n",
            "Unexecuted lines:\n",
            "['test_sqrt_edge_case_zero', 'def sqrt(n: int) -> int:', 'test_sqrt_edge_case_zero', 'raise ValueError(\"n must be a non-negative integer\")', 'test_sqrt_edge_case_zero', 'r = sqrt(n // 4)', 'test_sqrt_edge_case_zero', 'if n < (2 * r + 1) ** 2:', 'test_sqrt_edge_case_zero', 'return 2 * r', 'test_sqrt_edge_case_zero', 'return 2 * r + 1', 'test_sqrt_large_non_perfect_square_edge_case', 'def sqrt(n: int) -> int:', 'test_sqrt_large_non_perfect_square_edge_case', 'raise ValueError(\"n must be a non-negative integer\")', 'test_sqrt_large_non_perfect_square_edge_case', 'return 2 * r', 'test_sqrt_large_non_perfect_square_high_value', 'def sqrt(n: int) -> int:', 'test_sqrt_large_non_perfect_square_high_value', 'raise ValueError(\"n must be a non-negative integer\")', 'test_sqrt_large_non_perfect_square_high_value', 'return 2 * r', 'test_sqrt_large_non_perfect_square_high_value_edge_case', 'def sqrt(n: int) -> int:', 'test_sqrt_large_non_perfect_square_high_value_edge_case', 'raise ValueError(\"n must be a non-negative integer\")', 'test_sqrt_large_perfect_square', 'def sqrt(n: int) -> int:', 'test_sqrt_large_perfect_square', 'raise ValueError(\"n must be a non-negative integer\")', 'test_sqrt_of_non_perfect_square', 'def sqrt(n: int) -> int:', 'test_sqrt_of_non_perfect_square', 'raise ValueError(\"n must be a non-negative integer\")']\n"
          ]
        }
      ]
    },
    {
      "cell_type": "markdown",
      "source": [
        "***Removed these 2 test cases because there were some import issues***"
      ],
      "metadata": {
        "id": "0gp9mvvoGveR"
      }
    },
    {
      "cell_type": "code",
      "source": [
        "def test_sqrt_negative_input_raises_value_error(self):\n",
        "        \"\"\"Test that sqrt function raises ValueError for negative input.\"\"\"\n",
        "        from code_to_test import sqrt   # Importing the function to test\n",
        "\n",
        "        negative_inputs = [-1, -100]  # List of negative inputs to test\n",
        "        for n in negative_inputs:\n",
        "            with self.assertRaises(\n",
        "                ValueError, msg=f\"Expected ValueError for input {n}\"\n",
        "            ):\n",
        "                sqrt(n)\n",
        "\n",
        "def test_sqrt_large_negative_input_raises_value_error(self):\n",
        "        \"\"\"Test that sqrt function raises ValueError for a large negative input.\"\"\"\n",
        "        from code_to_test import sqrt   # Importing the function to test\n",
        "\n",
        "        large_negative_input = -1000000  # A large negative input to test\n",
        "        with self.assertRaises(\n",
        "            ValueError, msg=f\"Expected ValueError for input {large_negative_input}\"\n",
        "        ):\n",
        "            sqrt(large_negative_input)"
      ],
      "metadata": {
        "id": "StaLXOB-D_F1"
      },
      "execution_count": null,
      "outputs": []
    }
  ]
}