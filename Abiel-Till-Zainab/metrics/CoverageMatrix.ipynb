{
  "cells": [
    {
      "cell_type": "code",
      "execution_count": 1,
      "metadata": {
        "colab": {
          "base_uri": "https://localhost:8080/"
        },
        "id": "FwKArZQBQqnT",
        "outputId": "094316f0-963e-446e-ceba-dff730301b08"
      },
      "outputs": [
        {
          "name": "stdout",
          "output_type": "stream",
          "text": [
            "Requirement already satisfied: coverage in /Users/till/anaconda3/lib/python3.10/site-packages (7.6.9)\n"
          ]
        }
      ],
      "source": [
        "!pip install coverage"
      ]
    },
    {
      "cell_type": "code",
      "execution_count": 2,
      "metadata": {
        "colab": {
          "base_uri": "https://localhost:8080/"
        },
        "id": "_OH9hbg1QtBg",
        "outputId": "22a11c18-f7df-46b8-e698-d3b0adaf3aee"
      },
      "outputs": [
        {
          "name": "stdout",
          "output_type": "stream",
          "text": [
            "Writing my_functions.py\n"
          ]
        }
      ],
      "source": [
        "%%writefile my_functions.py\n",
        "# Function under test\n",
        "def complex_function(x, y):\n",
        "    if x > 0:\n",
        "        if y > 0:\n",
        "            return \"x and y positive\"\n",
        "        elif y == 0:\n",
        "            return \"x positive, y zero\"\n",
        "        else:\n",
        "            return \"x positive, y negative\"\n",
        "    elif x == 0:\n",
        "        if y > 0:\n",
        "            return \"x zero, y positive\"\n",
        "        elif y == 0:\n",
        "            return \"x and y zero\"\n",
        "        else:\n",
        "            return \"x zero, y negative\"\n",
        "    else:\n",
        "        if y > 0:\n",
        "            return \"x negative, y positive\"\n",
        "        elif y == 0:\n",
        "            return \"x negative, y zero\"\n",
        "        else:\n",
        "            return \"x and y negative\""
      ]
    },
    {
      "cell_type": "code",
      "execution_count": 3,
      "metadata": {
        "colab": {
          "base_uri": "https://localhost:8080/"
        },
        "id": "XfCu2rvUljDk",
        "outputId": "e4d93df0-ee05-41af-9c6b-dc490b42fa85"
      },
      "outputs": [
        {
          "name": "stderr",
          "output_type": "stream",
          "text": [
            ".\n",
            "----------------------------------------------------------------------\n",
            "Ran 1 test in 0.005s\n",
            "\n",
            "OK\n",
            ".\n",
            "----------------------------------------------------------------------\n",
            "Ran 1 test in 0.006s\n",
            "\n",
            "OK\n",
            ".\n",
            "----------------------------------------------------------------------\n",
            "Ran 1 test in 0.004s\n",
            "\n",
            "OK\n",
            ".\n",
            "----------------------------------------------------------------------\n",
            "Ran 1 test in 0.003s\n",
            "\n",
            "OK\n",
            ".\n",
            "----------------------------------------------------------------------\n",
            "Ran 1 test in 0.003s\n",
            "\n",
            "OK\n"
          ]
        },
        {
          "name": "stdout",
          "output_type": "stream",
          "text": [
            "Line Coverage Matrix:\n",
            "Line# | Test1 | Test2 | Test3 | Test4 | Test5 | RowSum\n",
            "--------------------------------------------------\n",
            "1      | 1 | 1 | 1 | 1 | 1 | 5\n",
            "2      | 0 | 0 | 0 | 0 | 0 | 0\n",
            "3      | 1 | 1 | 1 | 1 | 1 | 5\n",
            "4      | 1 | 1 | 1 | 1 | 1 | 5\n",
            "5      | 1 | 1 | 1 | 1 | 1 | 5\n",
            "6      | 0 | 1 | 1 | 1 | 1 | 4\n",
            "7      | 0 | 1 | 1 | 1 | 1 | 4\n",
            "8      | 1 | 1 | 1 | 1 | 1 | 5\n",
            "9      | 0 | 0 | 0 | 0 | 0 | 0\n",
            "10     | 0 | 0 | 1 | 1 | 1 | 3\n",
            "11     | 0 | 0 | 1 | 1 | 1 | 3\n",
            "12     | 0 | 0 | 1 | 1 | 1 | 3\n",
            "13     | 0 | 0 | 0 | 1 | 1 | 2\n",
            "14     | 0 | 0 | 0 | 0 | 0 | 0\n",
            "15     | 1 | 1 | 1 | 1 | 1 | 5\n",
            "16     | 0 | 0 | 0 | 1 | 1 | 2\n",
            "17     | 1 | 1 | 1 | 1 | 1 | 5\n",
            "18     | 0 | 0 | 0 | 0 | 1 | 1\n",
            "19     | 0 | 0 | 0 | 0 | 0 | 0\n",
            "20     | 0 | 0 | 0 | 0 | 1 | 1\n",
            "21     | 0 | 0 | 0 | 0 | 0 | 0\n",
            "22     | 1 | 1 | 1 | 1 | 1 | 5\n",
            "23     | 0 | 0 | 0 | 0 | 1 | 1\n",
            "--------------------------------------------------\n",
            "ColSum  8  10  13  15  18\n",
            "Unexecuted lines:\n",
            "['test_complex_function_1', 'def complex_function(x, y):', 'test_complex_function_1', 'elif y == 0:', 'test_complex_function_1', 'return \"x positive, y zero\"', 'test_complex_function_1', 'return \"x positive, y negative\"', 'test_complex_function_1', 'elif x == 0:', 'test_complex_function_1', 'if y > 0:', 'test_complex_function_1', 'return \"x zero, y positive\"', 'test_complex_function_1', 'elif y == 0:', 'test_complex_function_1', 'return \"x and y zero\"', 'test_complex_function_1', 'return \"x zero, y negative\"', 'test_complex_function_1', 'if y > 0:', 'test_complex_function_1', 'return \"x negative, y positive\"', 'test_complex_function_1', 'elif y == 0:', 'test_complex_function_1', 'return \"x negative, y zero\"', 'test_complex_function_1', 'return \"x and y negative\"', 'test_complex_function_2', 'def complex_function(x, y):', 'test_complex_function_2', 'return \"x positive, y negative\"', 'test_complex_function_2', 'elif x == 0:', 'test_complex_function_2', 'if y > 0:', 'test_complex_function_2', 'return \"x zero, y positive\"', 'test_complex_function_2', 'elif y == 0:', 'test_complex_function_2', 'return \"x and y zero\"', 'test_complex_function_2', 'return \"x zero, y negative\"', 'test_complex_function_2', 'if y > 0:', 'test_complex_function_2', 'return \"x negative, y positive\"', 'test_complex_function_2', 'elif y == 0:', 'test_complex_function_2', 'return \"x negative, y zero\"', 'test_complex_function_2', 'return \"x and y negative\"', 'test_complex_function_3', 'def complex_function(x, y):', 'test_complex_function_3', 'return \"x positive, y negative\"', 'test_complex_function_3', 'elif y == 0:', 'test_complex_function_3', 'return \"x and y zero\"', 'test_complex_function_3', 'return \"x zero, y negative\"', 'test_complex_function_3', 'if y > 0:', 'test_complex_function_3', 'return \"x negative, y positive\"', 'test_complex_function_3', 'elif y == 0:', 'test_complex_function_3', 'return \"x negative, y zero\"', 'test_complex_function_3', 'return \"x and y negative\"', 'test_complex_function_4', 'def complex_function(x, y):', 'test_complex_function_4', 'return \"x positive, y negative\"', 'test_complex_function_4', 'return \"x and y zero\"', 'test_complex_function_4', 'if y > 0:', 'test_complex_function_4', 'return \"x negative, y positive\"', 'test_complex_function_4', 'elif y == 0:', 'test_complex_function_4', 'return \"x negative, y zero\"', 'test_complex_function_4', 'return \"x and y negative\"', 'test_complex_function_5', 'def complex_function(x, y):', 'test_complex_function_5', 'return \"x positive, y negative\"', 'test_complex_function_5', 'return \"x and y zero\"', 'test_complex_function_5', 'return \"x negative, y positive\"', 'test_complex_function_5', 'return \"x negative, y zero\"']\n"
          ]
        }
      ],
      "source": [
        "import coverage\n",
        "import unittest\n",
        "from my_functions import complex_function  # Function to be tested\n",
        "\n",
        "# Test cases\n",
        "class TestMyFunctions(unittest.TestCase):\n",
        "    def test_complex_function_1(self):\n",
        "        self.assertEqual(complex_function(1, 1), \"x and y positive\")\n",
        "\n",
        "    def test_complex_function_2(self):\n",
        "        self.assertEqual(complex_function(1, 0), \"x positive, y zero\")\n",
        "\n",
        "    def test_complex_function_3(self):\n",
        "        self.assertEqual(complex_function(0, 1), \"x zero, y positive\")\n",
        "\n",
        "    def test_complex_function_4(self):\n",
        "        self.assertEqual(complex_function(0, -1), \"x zero, y negative\")\n",
        "\n",
        "    def test_complex_function_5(self):\n",
        "        self.assertEqual(complex_function(-1, -1), \"x and y negative\")\n",
        "\n",
        "\n",
        "def count_lines(file_path):\n",
        "    with open(file_path, 'r') as file:\n",
        "        lines = file.readlines()\n",
        "        return len(lines)\n",
        "\n",
        "def get_code_lines(file_path):\n",
        "    with open(file_path, 'r') as file:\n",
        "        lines = file.readlines()\n",
        "        total_lines = [line.strip() for line in lines]\n",
        "        code_lines = []\n",
        "        for i in range(len(lines)):\n",
        "          code_lines.append(i + 1)\n",
        "\n",
        "    return code_lines, len(lines), total_lines\n",
        "\n",
        "\n",
        "def analyse():\n",
        "\n",
        "  line_numbers, line_count, total_lines = get_code_lines(file_path);\n",
        "\n",
        "  cov = coverage.Coverage()\n",
        "  cov.start()  # Start coverage tracking\n",
        "\n",
        "  # List of test cases\n",
        "  test_cases = [\n",
        "      'test_complex_function_1',\n",
        "      'test_complex_function_2',\n",
        "      'test_complex_function_3',\n",
        "      'test_complex_function_4',\n",
        "      'test_complex_function_5'\n",
        "  ]\n",
        "\n",
        "  # Initialize the matrix to store coverage\n",
        "  missed_lines = []\n",
        "  unexecuted_lines = []\n",
        "  matrix = []\n",
        "\n",
        "  # Run each test case and collect coverage data\n",
        "  for test_case in test_cases:\n",
        "\n",
        "      # Reset coverage before each test case run\n",
        "      cov.stop()\n",
        "      cov.start()\n",
        "\n",
        "      # Running coverage for each test method\n",
        "      suite = unittest.TestLoader().loadTestsFromName(f\"__main__.TestMyFunctions.{test_case}\")\n",
        "      unittest.TextTestRunner().run(suite)\n",
        "\n",
        "      # Saving the coverage\n",
        "      cov.stop()\n",
        "      cov.save()\n",
        "\n",
        "      # Carry out analysis to get missed lines\n",
        "      analysis = cov.analysis(\"my_functions.py\")\n",
        "      _, _, missing_lines, _ = analysis\n",
        "\n",
        "      missed_lines.append(missing_lines)\n",
        "\n",
        "      # Total unexecuted line per test in array of strings\n",
        "      for line_num in missing_lines:\n",
        "        unexecuted_lines.append(str(test_case))\n",
        "        unexecuted_lines.append(total_lines[line_num - 1].strip())\n",
        "\n",
        "  # Create a matrix\n",
        "  for line in line_numbers:\n",
        "      row = [0 if line in test_cov else 1 for test_cov in missed_lines]\n",
        "      matrix.append(row)\n",
        "\n",
        "\n",
        "  row_sums = [sum(row) for row in matrix]\n",
        "  col_sums = [sum(matrix[row][col] for row in range(len(matrix))) for col in range(len(missed_lines))]\n",
        "\n",
        "\n",
        "  #print(matrix)\n",
        "\n",
        "  # Display the matrix with sums\n",
        "  print(\"Line Coverage Matrix:\")\n",
        "  print(\"Line# | \" + \" | \".join([f\"Test{i+1}\" for i in range(len(missed_lines))]) + \" | RowSum\")\n",
        "  print(\"-\" * (10 + 8 * len(missed_lines)))\n",
        "  for i, line in enumerate(line_numbers):\n",
        "      print(f\"{line:<6} | \" + \" | \".join([str(cell) for cell in matrix[i]]) + f\" | {row_sums[i]}\")\n",
        "  print(\"-\" * (10 + 8 * len(missed_lines)))\n",
        "  print(\"ColSum  \" + \"  \".join([str(sum_val) for sum_val in col_sums]))\n",
        "\n",
        "  print(\"Unexecuted lines:\")\n",
        "  print(unexecuted_lines)\n",
        "\n",
        "\n",
        "# Doing the analysis\n",
        "file_path = 'my_functions.py'\n",
        "total_lines = count_lines(file_path)\n",
        "analyse()"
      ]
    },
    {
      "cell_type": "code",
      "execution_count": null,
      "metadata": {},
      "outputs": [],
      "source": []
    }
  ],
  "metadata": {
    "colab": {
      "provenance": []
    },
    "kernelspec": {
      "display_name": "Python 3",
      "name": "python3"
    },
    "language_info": {
      "codemirror_mode": {
        "name": "ipython",
        "version": 3
      },
      "file_extension": ".py",
      "mimetype": "text/x-python",
      "name": "python",
      "nbconvert_exporter": "python",
      "pygments_lexer": "ipython3",
      "version": "3.10.15"
    }
  },
  "nbformat": 4,
  "nbformat_minor": 0
}
