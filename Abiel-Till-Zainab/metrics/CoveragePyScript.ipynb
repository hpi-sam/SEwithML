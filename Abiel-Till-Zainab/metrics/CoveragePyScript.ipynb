{
  "cells": [
    {
      "attachments": {},
      "cell_type": "markdown",
      "metadata": {},
      "source": [
        "'''\n",
        "Dependencies:\n",
        "    !pip install coverage\n",
        "    python3 -m pip install coverage\n",
        "'''"
      ]
    },
    {
      "attachments": {},
      "cell_type": "markdown",
      "metadata": {},
      "source": [
        "File with methods under test"
      ]
    },
    {
      "cell_type": "code",
      "execution_count": 13,
      "metadata": {
        "colab": {
          "base_uri": "https://localhost:8080/"
        },
        "id": "Gnkol3eXa5JM",
        "outputId": "e8778b96-de01-4c17-8297-71f2f48d3117"
      },
      "outputs": [
        {
          "name": "stdout",
          "output_type": "stream",
          "text": [
            "Overwriting my_functions.py\n"
          ]
        }
      ],
      "source": [
        "%%writefile my_functions.py\n",
        "def fibonacci(n):\n",
        "    if n <= 0:\n",
        "        raise ValueError(\"n must be a positive integer.\")\n",
        "    elif n == 1:\n",
        "        return 0\n",
        "    elif n == 2:\n",
        "        return 1\n",
        "    else:\n",
        "        return fibonacci(n - 1) + fibonacci(n - 2)\n",
        "\n",
        "def calculate_cart_discount(cart_items):\n",
        "    total_cost = sum(item[\"price\"] * item[\"quantity\"] for item in cart_items)\n",
        "    if total_cost > 1000:\n",
        "        if len(cart_items) > 5:\n",
        "            return total_cost * 0.7  # 30% discount\n",
        "        else:\n",
        "            return total_cost * 0.8  # 20% discount\n",
        "    elif total_cost > 500:\n",
        "        return total_cost * 0.9  # 10% discount\n",
        "    else:\n",
        "        return total_cost\n",
        "\n",
        "def assign_grade(score):\n",
        "    if score < 0 or score > 100:\n",
        "        return \"Invalid score\"\n",
        "    elif score >= 90:\n",
        "        return \"A\"\n",
        "    elif score >= 80:\n",
        "        return \"B\"\n",
        "    elif score >= 70:\n",
        "        return \"C\"\n",
        "    elif score >= 60:\n",
        "        return \"D\"\n",
        "    else:\n",
        "        return \"F\"\n",
        "\n",
        "def check_password_strength(password):\n",
        "    if len(password) < 8:\n",
        "        return \"Weak\"\n",
        "    has_digit = any(char.isdigit() for char in password)\n",
        "    has_upper = any(char.isupper() for char in password)\n",
        "    has_special = any(char in \"!@#$%^&*()-_+=\" for char in password)\n",
        "\n",
        "    if has_digit and has_upper and has_special:\n",
        "        return \"Strong\"\n",
        "    elif has_digit and has_upper:\n",
        "        return \"Moderate\"\n",
        "    else:\n",
        "        return \"Weak\"\n",
        "\n"
      ]
    },
    {
      "attachments": {},
      "cell_type": "markdown",
      "metadata": {},
      "source": [
        "Test File"
      ]
    },
    {
      "cell_type": "code",
      "execution_count": 16,
      "metadata": {
        "colab": {
          "base_uri": "https://localhost:8080/"
        },
        "id": "RqjRFv9na7yn",
        "outputId": "97d208ae-c189-4ce3-8bf2-b5df01885920"
      },
      "outputs": [
        {
          "name": "stdout",
          "output_type": "stream",
          "text": [
            "Overwriting test_my_functions.py\n"
          ]
        }
      ],
      "source": [
        "%%writefile test_my_functions.py\n",
        "import unittest\n",
        "from my_functions import fibonacci, calculate_cart_discount, assign_grade, check_password_strength\n",
        "\n",
        "class TestMyFunctions(unittest.TestCase):\n",
        "    def test_fibonacci(self):\n",
        "        self.assertEqual(fibonacci(1), 0)  # Base case 1\n",
        "        self.assertEqual(fibonacci(2), 1)  # Base case 2\n",
        "        #self.assertEqual(fibonacci(3), 1)  # Fibonacci sequence\n",
        "        self.assertEqual(fibonacci(4), 2)\n",
        "        #self.assertEqual(fibonacci(5), 3)\n",
        "        self.assertEqual(fibonacci(6), 5)\n",
        "        with self.assertRaises(ValueError):\n",
        "            fibonacci(0)  # Invalid input\n",
        "        with self.assertRaises(ValueError):\n",
        "            fibonacci(-1)  # Negative input\n",
        "\n",
        "    def test_calculate_cart_discount(self):\n",
        "        #cart1 = [{\"price\": 100, \"quantity\": 6}]  # Total = 600\n",
        "        #self.assertEqual(calculate_cart_discount(cart1), 540)  # 10% discount\n",
        "\n",
        "        cart2 = [{\"price\": 200, \"quantity\": 6}]  # Total = 1200, <=5 items\n",
        "        self.assertEqual(calculate_cart_discount(cart2), 1200 * 0.8)  # 20% discount\n",
        "\n",
        "        cart3 = [{\"price\": 250, \"quantity\": 4}]  # Total = 1000, <=5 items\n",
        "        self.assertEqual(calculate_cart_discount(cart3), 1000 * 0.9)  # 10% discount\n",
        "\n",
        "        #cart4 = [{\"price\": 50, \"quantity\": 8}]  # Total = 400\n",
        "        #self.assertEqual(calculate_cart_discount(cart4), 400)  # No discount\n",
        "\n",
        "        cart5 = []  # Empty cart\n",
        "        self.assertEqual(calculate_cart_discount(cart5), 0)  # Total = 0\n",
        "\n",
        "    def test_assign_grade(self):\n",
        "        #self.assertEqual(assign_grade(95), \"A\")  # High grade\n",
        "        self.assertEqual(assign_grade(85), \"B\")  # Mid grade\n",
        "        #self.assertEqual(assign_grade(75), \"C\")  # Average grade\n",
        "        self.assertEqual(assign_grade(65), \"D\")  # Low passing grade\n",
        "        self.assertEqual(assign_grade(50), \"F\")  # Failing grade\n",
        "        #self.assertEqual(assign_grade(101), \"Invalid score\")  # Above max\n",
        "        #self.assertEqual(assign_grade(-5), \"Invalid score\")  # Below min\n",
        "\n",
        "    def test_check_password_strength(self):\n",
        "        self.assertEqual(check_password_strength(\"123\"), \"Weak\")  # Too short\n",
        "        self.assertEqual(check_password_strength(\"abcdefgh\"), \"Weak\")  # No digits or uppercase\n",
        "        #self.assertEqual(check_password_strength(\"Abcdefgh\"), \"Weak\")  # No digits\n",
        "        #self.assertEqual(check_password_strength(\"Abc12345\"), \"Moderate\")  # No special characters\n",
        "        #self.assertEqual(check_password_strength(\"Abc@1234\"), \"Strong\")  # Meets all criteria\n",
        "        self.assertEqual(check_password_strength(\"123@#$%!\"), \"Weak\")  # No uppercase letters\n",
        "        self.assertEqual(check_password_strength(\"ABCDEFGH\"), \"Weak\")  # No digits or special characters\n",
        "\n",
        "if __name__ == '__main__':\n",
        "    unittest.main()"
      ]
    },
    {
      "cell_type": "markdown",
      "metadata": {},
      "source": [
        "Commands that can be run through terminal to run and generate reports (HTML, XML, JSON, TEXT)"
      ]
    },
    {
      "cell_type": "code",
      "execution_count": null,
      "metadata": {},
      "outputs": [],
      "source": [
        "'''\n",
        "    python3 -m coverage run -m unittest test_my_functions.py\n",
        "    python3 -m coverage report\n",
        "    python3 -m coverage xml\n",
        "    python3 -m coverage json\n",
        "    python3 -m coverage lcov\n",
        "    python3 -m coverage report\n",
        "    python3 -m coverage annotate\n",
        "    python3 -m coverage combine\n",
        "    python3 -m coverage report -i\n",
        "\n",
        "    !coverage run -m unittest test_my_functions.py\n",
        "    \n",
        "    !coverage report\n",
        "\n",
        "    !coverage html\n",
        "    from google.colab import files\n",
        "    files.download('htmlcov/index.html')\n",
        "    !zip -r coverage_report.zip htmlcov\n",
        "    files.download('coverage_report.zip')\n",
        "'''"
      ]
    },
    {
      "cell_type": "code",
      "execution_count": 17,
      "metadata": {},
      "outputs": [
        {
          "name": "stdout",
          "output_type": "stream",
          "text": [
            "Executed lines:40\n",
            "[1, 2, 3, 4, 5, 6, 7, 9, 11, 12, 13, 14, 15, 17, 18, 19, 21, 23, 24, 25, 26, 27, 28, 29, 30, 31, 32, 33, 35, 37, 38, 39, 40, 41, 42, 44, 45, 46, 47, 49]\n",
            "\n",
            "Missing Lines:6\n",
            "[15, 25, 27, 31, 45, 47]\n",
            "\n",
            "Unexecuted lines as array of strings:\n",
            "['return total_cost * 0.7  # 30% discount', 'return \"Invalid score\"', 'return \"A\"', 'return \"C\"', 'return \"Strong\"', 'return \"Moderate\"']\n",
            "\n",
            "Excluded lines:22\n",
            "15, 25, 27, 31, 45, 47\n"
          ]
        }
      ],
      "source": [
        "from coverage import Coverage\n",
        "\n",
        "def extract_unexecuted_lines(source_file):\n",
        "\n",
        "    cov = Coverage()\n",
        "    cov.load()  # Load data from code file (coverage run must be executed before)\n",
        "\n",
        "    \"\"\"\n",
        "    Analyzes a source file for code coverage. \n",
        "    python3 -m coverage run -m unittest test_my_functions.py should be executed before\n",
        "    Returns:\n",
        "        file_name (str): The name or path of the source file being analyzed.\n",
        "        executed_lines (list[int]): A list of line numbers that were executed during testing.\n",
        "        missing_lines (list[int]): A list of line numbers that were not executed (uncovered lines).\n",
        "        excluded_lines (list[int]): A list of line numbers explicitly excluded from coverage analysis.\n",
        "    \"\"\"\n",
        "    file_name, executed_lines, missing_lines, excluded_lines = cov.analysis(source_file)\n",
        "\n",
        "    # Read the file and extract missing lines as an array of strings\n",
        "    unexecuted_lines = []\n",
        "    with open(source_file, 'r') as file:\n",
        "        lines = file.readlines()\n",
        "        for line_num in missing_lines:\n",
        "            unexecuted_lines.append(lines[line_num - 1].strip())  # Line numbers are 1-based\n",
        "\n",
        "    return unexecuted_lines, executed_lines, missing_lines, excluded_lines\n",
        "\n",
        "\n",
        "# Example usage\n",
        "if __name__ == \"__main__\":\n",
        "    source_file = \"my_functions.py\"\n",
        "    unexecuted_lines, executed_lines, missing_lines, excluded_lines = extract_unexecuted_lines(source_file)\n",
        "\n",
        "\n",
        "    print(\"Executed lines:\" + str(len(executed_lines)))\n",
        "    print(executed_lines)\n",
        "    print(\"\\nMissing Lines:\" + str(len(missing_lines)))\n",
        "    print(missing_lines)\n",
        "    print(\"\\nUnexecuted lines as array of strings:\")\n",
        "    print(unexecuted_lines)\n",
        "    print(\"\\nExcluded lines:\" + str(len(excluded_lines)))\n",
        "    print(excluded_lines)"
      ]
    }
  ],
  "metadata": {
    "colab": {
      "provenance": []
    },
    "kernelspec": {
      "display_name": "Python 3",
      "name": "python3"
    },
    "language_info": {
      "codemirror_mode": {
        "name": "ipython",
        "version": 3
      },
      "file_extension": ".py",
      "mimetype": "text/x-python",
      "name": "python",
      "nbconvert_exporter": "python",
      "pygments_lexer": "ipython3",
      "version": "3.9.6"
    }
  },
  "nbformat": 4,
  "nbformat_minor": 0
}
